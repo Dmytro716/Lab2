{
 "cells": [
  {
   "cell_type": "code",
   "execution_count": 3,
   "metadata": {},
   "outputs": [
    {
     "name": "stdout",
     "output_type": "stream",
     "text": [
      "Результат виводу:\n",
      "None\n",
      "Функція завершена!\n"
     ]
    }
   ],
   "source": [
    "a = print(\"Результат виводу:\")\n",
    "print(a)  # Все ще виведе None, оскільки print() не повертає значення\n",
    "\n",
    "def my_fun():\n",
    "    # Можемо додати умовну конструкцію\n",
    "    if True:  # Це умовно завжди виконується\n",
    "        return \"Функція завершена!\"\n",
    "    else:\n",
    "        return None\n",
    "\n",
    "print(my_fun())  # Тепер виведе \"Функція завершена!\"\n"
   ]
  },
  {
   "cell_type": "code",
   "execution_count": 1,
   "metadata": {},
   "outputs": [
    {
     "name": "stdout",
     "output_type": "stream",
     "text": [
      "78.53975\n"
     ]
    }
   ],
   "source": [
    "PI = 3.14159\n",
    "\n",
    "def circle_area(radius):\n",
    "    return PI * radius ** 2\n",
    "\n",
    "print(circle_area(5))  # Виведе площу кола з радіусом 5\n"
   ]
  }
 ],
 "metadata": {
  "kernelspec": {
   "display_name": "Python 3",
   "language": "python",
   "name": "python3"
  },
  "language_info": {
   "codemirror_mode": {
    "name": "ipython",
    "version": 3
   },
   "file_extension": ".py",
   "mimetype": "text/x-python",
   "name": "python",
   "nbconvert_exporter": "python",
   "pygments_lexer": "ipython3",
   "version": "3.10.11"
  }
 },
 "nbformat": 4,
 "nbformat_minor": 2
}
