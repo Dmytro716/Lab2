{
 "cells": [
  {
   "cell_type": "code",
   "execution_count": null,
   "metadata": {},
   "outputs": [],
   "source": []
  },
  {
   "cell_type": "code",
   "execution_count": 3,
   "metadata": {},
   "outputs": [
    {
     "name": "stdout",
     "output_type": "stream",
     "text": [
      "Це нова стрічка Перевизначено знову \n",
      "Це \n",
      "інша мультистрічка\n",
      "\n"
     ]
    }
   ],
   "source": [
    "a = 'Це нова стрічка'  # Трохи змінив текст стрічки\n",
    "a1 = \"Це\"\n",
    "a_1 = \"стрічка\"\n",
    "a_ = '''\n",
    "Це \n",
    "інша мультистрічка\n",
    "'''  # Текст мультистрічки також трохи змінено\n",
    "\n",
    "# Виведемо значення\n",
    "b = 'Перевизначено знову'  # Трохи змінив текст змінної b\n",
    "print(a, b, a_)  # Все ще виводимо значення змінних\n"
   ]
  },
  {
   "cell_type": "code",
   "execution_count": 4,
   "metadata": {},
   "outputs": [
    {
     "name": "stdout",
     "output_type": "stream",
     "text": [
      "з'їли піцу\n",
      "<class 'str'>\n",
      "З'їли піцу\n"
     ]
    }
   ],
   "source": [
    "страва = \"з'їли піцу\"  \n",
    "print(страва)\n",
    "\n",
    "print(type(страва))\n",
    "\n",
    "print(страва.capitalize())\n",
    "\n"
   ]
  },
  {
   "cell_type": "code",
   "execution_count": 5,
   "metadata": {},
   "outputs": [
    {
     "name": "stdout",
     "output_type": "stream",
     "text": [
      "Це нова стрічкаПеревизначено знову Це нова стрічкаПеревизначено знову\n"
     ]
    }
   ],
   "source": [
    "print(a + b, a.__add__(b))"
   ]
  },
  {
   "cell_type": "code",
   "execution_count": 8,
   "metadata": {},
   "outputs": [
    {
     "name": "stdout",
     "output_type": "stream",
     "text": [
      "Почнемо з великої букви. І продовжимо з новим реченням\n"
     ]
    }
   ],
   "source": [
    "t = \"почнемо з великої букви. і продовжимо з новим реченням\"  \n",
    "t1, t2 = t.split('. ') \n",
    "\n",
    "print(t1.capitalize() + \".\", t2.capitalize())  \n"
   ]
  }
 ],
 "metadata": {
  "kernelspec": {
   "display_name": "Python 3",
   "language": "python",
   "name": "python3"
  },
  "language_info": {
   "codemirror_mode": {
    "name": "ipython",
    "version": 3
   },
   "file_extension": ".py",
   "mimetype": "text/x-python",
   "name": "python",
   "nbconvert_exporter": "python",
   "pygments_lexer": "ipython3",
   "version": "3.10.11"
  }
 },
 "nbformat": 4,
 "nbformat_minor": 2
}
