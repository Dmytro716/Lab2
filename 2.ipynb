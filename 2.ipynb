{
 "cells": [
  {
   "cell_type": "code",
   "execution_count": null,
   "metadata": {},
   "outputs": [],
   "source": []
  },
  {
   "cell_type": "code",
   "execution_count": 1,
   "metadata": {},
   "outputs": [
    {
     "name": "stdout",
     "output_type": "stream",
     "text": [
      "Помилка: Ділення на нуль! division by zero\n",
      "Помилка: Неправильний тип даних! unsupported operand type(s) for /: 'int' and 'str'\n"
     ]
    }
   ],
   "source": [
    "def divide_numbers(a, b):\n",
    "    try:\n",
    "        result = a / b\n",
    "        print(f\"Результат: {result}\")\n",
    "    except ZeroDivisionError as e:\n",
    "        print(f\"Помилка: Ділення на нуль! {e}\")\n",
    "    except TypeError as e:\n",
    "        print(f\"Помилка: Неправильний тип даних! {e}\")\n",
    "\n",
    "# Виклик функції з помилкою\n",
    "divide_numbers(10, 0)  # Ділення на нуль\n",
    "divide_numbers(10, 'a')  # Неправильний тип\n"
   ]
  },
  {
   "cell_type": "code",
   "execution_count": 2,
   "metadata": {},
   "outputs": [
    {
     "name": "stdout",
     "output_type": "stream",
     "text": [
      "Помилка: Файл не знайдено! [Errno 2] No such file or directory: 'nonexistent_file.txt'\n"
     ]
    }
   ],
   "source": [
    "def read_file(file_name):\n",
    "    try:\n",
    "        file = open(file_name, 'r')\n",
    "        content = file.read()\n",
    "        print(\"Зміст файлу:\")\n",
    "        print(content)\n",
    "    except FileNotFoundError as e:\n",
    "        print(f\"Помилка: Файл не знайдено! {e}\")\n",
    "    finally:\n",
    "        if 'file' in locals():\n",
    "            file.close()\n",
    "            print(\"Файл закрито.\")\n",
    "\n",
    "# Виклик функції з невірним іменем файлу\n",
    "read_file('nonexistent_file.txt')\n"
   ]
  },
  {
   "cell_type": "code",
   "execution_count": 3,
   "metadata": {},
   "outputs": [
    {
     "name": "stdout",
     "output_type": "stream",
     "text": [
      "0) Отримуємо значення: -0.7777777777777778 (Дільник: -9)\n",
      "1) Отримуємо значення: 0.7777777777777778 (Дільник: 9)\n",
      "2) Отримуємо значення: 2.3333333333333335 (Дільник: 3)\n",
      "3) Отримуємо значення: -0.7 (Дільник: -10)\n",
      "4) Отримуємо значення: -0.875 (Дільник: -8)\n",
      "5) Отримуємо значення: 1.75 (Дільник: 4)\n",
      "6) Отримуємо значення: -2.3333333333333335 (Дільник: -3)\n",
      "7) Отримуємо значення: -2.3333333333333335 (Дільник: -3)\n",
      "8) Отримуємо значення: 2.3333333333333335 (Дільник: 3)\n",
      "9) Отримуємо значення: 1.0 (Дільник: 7)\n",
      "10) Отримуємо значення: -3.5 (Дільник: -2)\n",
      "11) Отримуємо значення: 1.1666666666666667 (Дільник: 6)\n",
      "12) Отримуємо значення: 7.0 (Дільник: 1)\n",
      "13) Отримуємо значення: 1.1666666666666667 (Дільник: 6)\n",
      "14) Отримуємо значення: -7.0 (Дільник: -1)\n",
      "15) Отримуємо значення: 2.3333333333333335 (Дільник: 3)\n",
      "16) Отримуємо значення: 1.4 (Дільник: 5)\n",
      "17) Отримуємо значення: 0.875 (Дільник: 8)\n",
      "18) Отримуємо значення: 0.7 (Дільник: 10)\n",
      "19) Отримуємо значення: 1.75 (Дільник: 4)\n",
      "20) Отримуємо значення: 0.7 (Дільник: 10)\n",
      "21) Отримуємо значення: -0.7 (Дільник: -10)\n",
      "22) Отримуємо значення: 0.7 (Дільник: 10)\n",
      "23) Отримуємо значення: -1.1666666666666667 (Дільник: -6)\n",
      "24) Отримуємо значення: 1.75 (Дільник: 4)\n",
      "25) Отримуємо значення: -2.3333333333333335 (Дільник: -3)\n",
      "26) Отримуємо значення: 1.75 (Дільник: 4)\n",
      "27) Отримуємо значення: -0.7 (Дільник: -10)\n",
      "28) Отримуємо значення: -0.7777777777777778 (Дільник: -9)\n",
      "Помилка: Ділення на 0 не можна!\n",
      "29) Отримуємо значення: None (Дільник: 0)\n"
     ]
    }
   ],
   "source": [
    "from random import randint\n",
    "\n",
    "# Задаємо значення n\n",
    "n = 7\n",
    "for i in range(30):\n",
    "    try:\n",
    "        # Генеруємо випадковий дільник\n",
    "        divisor = randint(-10, 10)\n",
    "        k = float(n) / divisor\n",
    "    except ZeroDivisionError:  # Обробляємо конкретну помилку\n",
    "        print(\"Помилка: Ділення на 0 не можна!\")\n",
    "        k = None\n",
    "    \n",
    "    print(f\"{i}) Отримуємо значення: {k} (Дільник: {divisor})\")\n"
   ]
  },
  {
   "cell_type": "code",
   "execution_count": 4,
   "metadata": {},
   "outputs": [
    {
     "name": "stdout",
     "output_type": "stream",
     "text": [
      "1. Отримане значення: -0.7, дільник: -10\n",
      "2. Отримане значення: 1.4, дільник: 5\n",
      "3. Отримане значення: -7.0, дільник: -1\n"
     ]
    },
    {
     "ename": "TypeError",
     "evalue": "unsupported operand type(s) for /: 'float' and 'str'",
     "output_type": "error",
     "traceback": [
      "\u001b[1;31m---------------------------------------------------------------------------\u001b[0m",
      "\u001b[1;31mTypeError\u001b[0m                                 Traceback (most recent call last)",
      "\u001b[1;32mc:\\Users\\User\\Desktop\\ТК-41\\Lab2\\Lab2\\2.ipynb Cell 5\u001b[0m line \u001b[0;36m1\n\u001b[0;32m     <a href='vscode-notebook-cell:/c%3A/Users/User/Desktop/%D0%A2%D0%9A-41/Lab2/Lab2/2.ipynb#W4sZmlsZQ%3D%3D?line=10'>11</a>\u001b[0m     divisor \u001b[39m=\u001b[39m random\u001b[39m.\u001b[39mchoice(divisors)\n\u001b[0;32m     <a href='vscode-notebook-cell:/c%3A/Users/User/Desktop/%D0%A2%D0%9A-41/Lab2/Lab2/2.ipynb#W4sZmlsZQ%3D%3D?line=11'>12</a>\u001b[0m     \u001b[39m# Спробуємо виконати ділення\u001b[39;00m\n\u001b[1;32m---> <a href='vscode-notebook-cell:/c%3A/Users/User/Desktop/%D0%A2%D0%9A-41/Lab2/Lab2/2.ipynb#W4sZmlsZQ%3D%3D?line=12'>13</a>\u001b[0m     k \u001b[39m=\u001b[39m \u001b[39mfloat\u001b[39;49m(n) \u001b[39m/\u001b[39;49m divisor\n\u001b[0;32m     <a href='vscode-notebook-cell:/c%3A/Users/User/Desktop/%D0%A2%D0%9A-41/Lab2/Lab2/2.ipynb#W4sZmlsZQ%3D%3D?line=13'>14</a>\u001b[0m \u001b[39mexcept\u001b[39;00m \u001b[39mZeroDivisionError\u001b[39;00m:\n\u001b[0;32m     <a href='vscode-notebook-cell:/c%3A/Users/User/Desktop/%D0%A2%D0%9A-41/Lab2/Lab2/2.ipynb#W4sZmlsZQ%3D%3D?line=14'>15</a>\u001b[0m     \u001b[39mprint\u001b[39m(\u001b[39m\"\u001b[39m\u001b[39mПомилка: Ділення на 0 не можливе!\u001b[39m\u001b[39m\"\u001b[39m)\n",
      "\u001b[1;31mTypeError\u001b[0m: unsupported operand type(s) for /: 'float' and 'str'"
     ]
    }
   ],
   "source": [
    "import random\n",
    "\n",
    "# Задано значення n\n",
    "n = 7\n",
    "# Визначено список можливих ділильників, включаючи нечислові значення\n",
    "divisors = [-10, -5, -1, 5, 10, \"a\"]  # Додано рядок \"a\" для викликання ValueError\n",
    "\n",
    "for i in range(30):\n",
    "    try:\n",
    "        # Вибираємо випадковий дільник зі списку\n",
    "        divisor = random.choice(divisors)\n",
    "        # Спробуємо виконати ділення\n",
    "        k = float(n) / divisor\n",
    "    except ZeroDivisionError:\n",
    "        print(\"Помилка: Ділення на 0 не можливе!\")\n",
    "        k = None\n",
    "    except ValueError:  # Обробка ValueError при спробі поділити на нечислове значення\n",
    "        print(f\"Помилка: Некоректне значення для дільника: {divisor}\")\n",
    "        k = None\n",
    "\n",
    "    print(f\"{i+1}. Отримане значення: {k}, дільник: {divisor}\")\n"
   ]
  }
 ],
 "metadata": {
  "kernelspec": {
   "display_name": "Python 3",
   "language": "python",
   "name": "python3"
  },
  "language_info": {
   "codemirror_mode": {
    "name": "ipython",
    "version": 3
   },
   "file_extension": ".py",
   "mimetype": "text/x-python",
   "name": "python",
   "nbconvert_exporter": "python",
   "pygments_lexer": "ipython3",
   "version": "3.12.5"
  }
 },
 "nbformat": 4,
 "nbformat_minor": 2
}
