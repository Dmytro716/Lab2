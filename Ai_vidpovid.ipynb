{
 "cells": [
  {
   "cell_type": "markdown",
   "metadata": {},
   "source": [
    "# Перша програма від AI\n",
    "**Ця програма демонструє, як створювати базові привітання з введенням та виведенням даних у Python.**\n"
   ]
  },
  {
   "cell_type": "code",
   "execution_count": null,
   "metadata": {},
   "outputs": [],
   "source": [
    "name = input(\"Введіть своє ім'я: \")\n",
    "print(f\"Привіт, {name}! Раді бачити тебе у світі програмування.\")\n"
   ]
  },
  {
   "cell_type": "markdown",
   "metadata": {},
   "source": [
    "#### Пояснення:\n",
    "__Цей код запитує ім'я користувача і виводить привітання, використовуючи форматування рядків.__\n"
   ]
  }
 ],
 "metadata": {
  "language_info": {
   "name": "python"
  }
 },
 "nbformat": 4,
 "nbformat_minor": 2
}
