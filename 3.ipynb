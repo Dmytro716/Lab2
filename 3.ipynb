{
 "cells": [
  {
   "cell_type": "code",
   "execution_count": 26,
   "metadata": {},
   "outputs": [
    {
     "name": "stdout",
     "output_type": "stream",
     "text": [
      "<_io.TextIOWrapper name='test.txt' mode='+r' encoding='utf-8'>\n",
      "['ропропр\\n']\n"
     ]
    }
   ],
   "source": [
    "f = open(\"test.txt\", \"+r\", encoding=\"utf-8\")\n",
    "print(f)\n",
    "print(f.readlines())\n",
    "f.close()\n",
    "\n",
    "d = open(\"test.txt\", \"+a\", encoding=\"utf-8\")\n",
    "d.write(\"Переписали весь файл!\")\n",
    "d.close()\n"
   ]
  },
  {
   "cell_type": "code",
   "execution_count": 23,
   "metadata": {},
   "outputs": [
    {
     "name": "stdout",
     "output_type": "stream",
     "text": [
      "<_io.TextIOWrapper name='test.txt' mode='+r' encoding='UTF-8'>\n"
     ]
    },
    {
     "ename": "UnicodeDecodeError",
     "evalue": "'utf-8' codec can't decode byte 0xc4 in position 3: invalid continuation byte",
     "output_type": "error",
     "traceback": [
      "\u001b[1;31m---------------------------------------------------------------------------\u001b[0m",
      "\u001b[1;31mUnicodeDecodeError\u001b[0m                        Traceback (most recent call last)",
      "\u001b[1;32mc:\\Users\\User\\Desktop\\ТК-41\\Lab2\\Lab2\\3.ipynb Cell 2\u001b[0m line \u001b[0;36m3\n\u001b[0;32m      <a href='vscode-notebook-cell:/c%3A/Users/User/Desktop/%D0%A2%D0%9A-41/Lab2/Lab2/3.ipynb#W1sZmlsZQ%3D%3D?line=0'>1</a>\u001b[0m f \u001b[39m=\u001b[39m \u001b[39mopen\u001b[39m(\u001b[39m\"\u001b[39m\u001b[39mtest.txt\u001b[39m\u001b[39m\"\u001b[39m, \u001b[39m\"\u001b[39m\u001b[39m+r\u001b[39m\u001b[39m\"\u001b[39m, encoding\u001b[39m=\u001b[39m\u001b[39m\"\u001b[39m\u001b[39mUTF-8\u001b[39m\u001b[39m\"\u001b[39m)\n\u001b[0;32m      <a href='vscode-notebook-cell:/c%3A/Users/User/Desktop/%D0%A2%D0%9A-41/Lab2/Lab2/3.ipynb#W1sZmlsZQ%3D%3D?line=1'>2</a>\u001b[0m \u001b[39mprint\u001b[39m(f)\n\u001b[1;32m----> <a href='vscode-notebook-cell:/c%3A/Users/User/Desktop/%D0%A2%D0%9A-41/Lab2/Lab2/3.ipynb#W1sZmlsZQ%3D%3D?line=2'>3</a>\u001b[0m \u001b[39mprint\u001b[39m(f\u001b[39m.\u001b[39;49mreadlines())\n\u001b[0;32m      <a href='vscode-notebook-cell:/c%3A/Users/User/Desktop/%D0%A2%D0%9A-41/Lab2/Lab2/3.ipynb#W1sZmlsZQ%3D%3D?line=3'>4</a>\u001b[0m f\u001b[39m.\u001b[39mclose()\n\u001b[0;32m      <a href='vscode-notebook-cell:/c%3A/Users/User/Desktop/%D0%A2%D0%9A-41/Lab2/Lab2/3.ipynb#W1sZmlsZQ%3D%3D?line=5'>6</a>\u001b[0m d \u001b[39m=\u001b[39m \u001b[39mopen\u001b[39m(\u001b[39m\"\u001b[39m\u001b[39mtest.txt\u001b[39m\u001b[39m\"\u001b[39m, \u001b[39m\"\u001b[39m\u001b[39m+a\u001b[39m\u001b[39m\"\u001b[39m, encoding\u001b[39m=\u001b[39m\u001b[39m\"\u001b[39m\u001b[39mUTF-8\u001b[39m\u001b[39m\"\u001b[39m)\n",
      "File \u001b[1;32m<frozen codecs>:322\u001b[0m, in \u001b[0;36mdecode\u001b[1;34m(self, input, final)\u001b[0m\n",
      "\u001b[1;31mUnicodeDecodeError\u001b[0m: 'utf-8' codec can't decode byte 0xc4 in position 3: invalid continuation byte"
     ]
    }
   ],
   "source": [
    "f = open(\"test.txt\", \"+r\", encoding=\"UTF-8\")\n",
    "print(f)\n",
    "print(f.readlines())\n",
    "f.close()\n",
    "\n",
    "d = open(\"test.txt\", \"+a\", encoding=\"UTF-8\")\n",
    "d.write(\"Переписали весь файл!\")\n",
    "d.close()\n"
   ]
  }
 ],
 "metadata": {
  "kernelspec": {
   "display_name": "Python 3",
   "language": "python",
   "name": "python3"
  },
  "language_info": {
   "codemirror_mode": {
    "name": "ipython",
    "version": 3
   },
   "file_extension": ".py",
   "mimetype": "text/x-python",
   "name": "python",
   "nbconvert_exporter": "python",
   "pygments_lexer": "ipython3",
   "version": "3.12.5"
  }
 },
 "nbformat": 4,
 "nbformat_minor": 2
}
